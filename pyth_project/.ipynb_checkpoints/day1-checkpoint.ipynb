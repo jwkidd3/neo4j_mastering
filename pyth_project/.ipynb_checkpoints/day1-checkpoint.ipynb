{
 "cells": [
  {
   "cell_type": "code",
   "execution_count": 3,
   "id": "fd0181cd-cc5c-4848-b77e-ef445d69b9dc",
   "metadata": {},
   "outputs": [
    {
     "name": "stdout",
     "output_type": "stream",
     "text": [
      "✅ All packages imported successfully\n",
      "✅ Environment Ready!\n"
     ]
    }
   ],
   "source": [
    "# Test all required packages\n",
    "import neo4j\n",
    "import pandas as pd\n",
    "import matplotlib.pyplot as plt\n",
    "import plotly.graph_objects as go\n",
    "import networkx as nx\n",
    "print(\"✅ All packages imported successfully\")\n",
    "\n",
    "# Test Neo4j connectivity  \n",
    "from neo4j import GraphDatabase\n",
    "driver = GraphDatabase.driver(\"bolt://localhost:7687\", auth=(\"neo4j\", \"password\"))\n",
    "with driver.session() as session:\n",
    "    result = session.run(\"RETURN 'Environment Ready!' as message\")\n",
    "    print(f\"✅ {result.single()['message']}\")\n",
    "driver.close()"
   ]
  },
  {
   "cell_type": "code",
   "execution_count": 11,
   "id": "bbbb7a6b-ffad-41cd-bf02-682480a5adc8",
   "metadata": {},
   "outputs": [
    {
     "name": "stdout",
     "output_type": "stream",
     "text": [
      "✅ Connected to Neo4j Docker container successfully!\n",
      "Docker Neo4j connection works!\n",
      "✅ Data export function working. User count: 5\n"
     ]
    }
   ],
   "source": [
    "from neo4j import GraphDatabase\n",
    "import pandas as pd\n",
    "import plotly.graph_objects as go\n",
    "import plotly.express as px\n",
    "from plotly.subplots import make_subplots\n",
    "import networkx as nx\n",
    "import numpy as np\n",
    "# Connect to Docker Neo4j instance\n",
    "try:\n",
    "    driver = GraphDatabase.driver(\"bolt://localhost:7687\", \n",
    "                                 auth=(\"neo4j\", \"password\"), \n",
    "                                 database=\"social\")\n",
    "    driver.verify_connectivity()\n",
    "    print(\"✅ Connected to Neo4j Docker container successfully!\")\n",
    "    \n",
    "    # Test query\n",
    "    with driver.session() as session:\n",
    "        result = session.run(\"RETURN 'Docker Neo4j connection works!' AS message\")\n",
    "        print(result.single()[\"message\"])\n",
    "        \n",
    "except Exception as e:\n",
    "    print(f\"❌ Connection failed: {e}\")\n",
    "    print(\"Check Docker Neo4j container is running\")\n",
    "\n",
    "# Utility function for running queries and returning DataFrames\n",
    "def run_query(query, database=\"social\"):\n",
    "    \"\"\"Execute Cypher query and return results as pandas DataFrame\"\"\"\n",
    "    with driver.session(database=database) as session:\n",
    "        result = session.run(query)\n",
    "        data = [record.data() for record in result]\n",
    "        return pd.DataFrame(data)\n",
    "\n",
    "# Test the function\n",
    "test_df = run_query(\"MATCH (u:User) RETURN count(u) AS user_count\")\n",
    "print(f\"✅ Data export function working. User count: {test_df.iloc[0]['user_count']}\")"
   ]
  },
  {
   "cell_type": "code",
   "execution_count": 13,
   "id": "8c80ed84-a7b4-4046-abac-28ac2847d83a",
   "metadata": {},
   "outputs": [
    {
     "name": "stdout",
     "output_type": "stream",
     "text": [
      "User Data Shape: (5, 7)\n",
      "\n",
      "User Data Preview:\n",
      "        username  age           location  followers  posts_count  \\\n",
      "0    alice_codes   25  San Francisco, CA          3            2   \n",
      "1  carol_creates   28         London, UK          3            2   \n",
      "2    eve_fitness   32    Los Angeles, CA          2            0   \n",
      "3    bob_travels   30       New York, NY          1            2   \n",
      "4    frank_music   27         Austin, TX          1            0   \n",
      "\n",
      "   total_likes_received  interests_count  \n",
      "0                     2                3  \n",
      "1                     2                2  \n",
      "2                     0                1  \n",
      "3                     1                3  \n",
      "4                     0                2  \n"
     ]
    }
   ],
   "source": [
    "# Export comprehensive user data\n",
    "users_query = \"\"\"\n",
    "MATCH (u:User)\n",
    "OPTIONAL MATCH (u)-[:POSTED]->(p:Post)\n",
    "OPTIONAL MATCH (p)<-[:LIKES]-(liker:User)\n",
    "OPTIONAL MATCH (follower:User)-[:FOLLOWS]->(u)\n",
    "OPTIONAL MATCH (u)-[:INTERESTED_IN]->(topic:Topic)\n",
    "WITH u, \n",
    "     count(DISTINCT p) AS posts_count,\n",
    "     count(DISTINCT liker) AS total_likes_received,\n",
    "     count(DISTINCT follower) AS followers,\n",
    "     count(DISTINCT topic) AS interests_count\n",
    "RETURN u.username AS username,\n",
    "       u.age AS age,\n",
    "       u.location AS location,\n",
    "       followers,\n",
    "       posts_count,\n",
    "       total_likes_received,\n",
    "       interests_count\n",
    "ORDER BY followers DESC\n",
    "\"\"\"\n",
    "\n",
    "users_df = run_query(users_query)\n",
    "print(\"User Data Shape:\", users_df.shape)\n",
    "print(\"\\nUser Data Preview:\")\n",
    "print(users_df.head())"
   ]
  },
  {
   "cell_type": "code",
   "execution_count": 14,
   "id": "7a7c73f5-66fb-434d-bfe5-c09fb5a2ae3f",
   "metadata": {},
   "outputs": [
    {
     "name": "stdout",
     "output_type": "stream",
     "text": [
      "Relationships Data Shape: (10, 4)\n",
      "\n",
      "Relationships Preview:\n",
      "     from_user        to_user                   relationship_since  \\\n",
      "0  alice_codes    bob_travels  2020-06-15T14:30:00.000000000+00:00   \n",
      "1  alice_codes  carol_creates  2021-01-20T16:45:00.000000000+00:00   \n",
      "2  bob_travels    alice_codes  2020-06-16T10:00:00.000000000+00:00   \n",
      "3  bob_travels  carol_creates  2021-03-05T09:15:00.000000000+00:00   \n",
      "4  bob_travels    eve_fitness  2021-05-12T14:30:00.000000000+00:00   \n",
      "\n",
      "  relationship_type  \n",
      "0           FOLLOWS  \n",
      "1           FOLLOWS  \n",
      "2           FOLLOWS  \n",
      "3           FOLLOWS  \n",
      "4           FOLLOWS  \n"
     ]
    }
   ],
   "source": [
    "# Export relationship network\n",
    "relationships_query = \"\"\"\n",
    "MATCH (u1:User)-[r:FOLLOWS]->(u2:User)\n",
    "RETURN u1.username AS from_user,\n",
    "       u2.username AS to_user,\n",
    "       r.since AS relationship_since,\n",
    "       'FOLLOWS' AS relationship_type\n",
    "\"\"\"\n",
    "\n",
    "relationships_df = run_query(relationships_query)\n",
    "print(\"Relationships Data Shape:\", relationships_df.shape)\n",
    "print(\"\\nRelationships Preview:\")\n",
    "print(relationships_df.head())"
   ]
  },
  {
   "cell_type": "code",
   "execution_count": 16,
   "id": "50e4e09f-83d7-46ea-b16a-1ec0ed29fdab",
   "metadata": {},
   "outputs": [
    {
     "name": "stdout",
     "output_type": "stream",
     "text": [
      "✅ Graph created with 5 nodes and 10 edges\n",
      "✅ Layout generated for 5 positions\n"
     ]
    }
   ],
   "source": [
    "G = nx.from_pandas_edgelist(relationships_df, \n",
    "                           source='from_user', \n",
    "                           target='to_user',\n",
    "                           create_using=nx.DiGraph())\n",
    "\n",
    "# Add node attributes from user data\n",
    "for _, row in users_df.iterrows():\n",
    "    if row['username'] in G.nodes():\n",
    "        G.nodes[row['username']]['location'] = row['location']\n",
    "        G.nodes[row['username']]['followers'] = row['followers']\n",
    "        G.nodes[row['username']]['total_likes'] = row['total_likes_received']\n",
    "\n",
    "# Generate optimal layout for visualization\n",
    "pos = nx.spring_layout(G, k=3, iterations=50)\n",
    "\n",
    "print(f\"✅ Graph created with {G.number_of_nodes()} nodes and {G.number_of_edges()} edges\")\n",
    "print(f\"✅ Layout generated for {len(pos)} positions\")"
   ]
  },
  {
   "cell_type": "code",
   "execution_count": 19,
   "id": "0ab1b96e-2443-4804-bc3a-58e824d5837f",
   "metadata": {},
   "outputs": [
    {
     "data": {
      "application/vnd.plotly.v1+json": {
       "config": {
        "plotlyServerURL": "https://plot.ly"
       },
       "data": [
        {
         "hoverinfo": "none",
         "line": {
          "color": "lightgray",
          "width": 2
         },
         "mode": "lines",
         "type": "scatter",
         "x": [
          0.9176111490002368,
          0.6716828525821527,
          null,
          0.9176111490002368,
          -0.24968664352895817,
          null,
          0.6716828525821527,
          0.9176111490002368,
          null,
          0.6716828525821527,
          -0.24968664352895817,
          null,
          0.6716828525821527,
          -0.3396073580534308,
          null,
          -0.24968664352895817,
          -0.3396073580534308,
          null,
          -0.24968664352895817,
          -1,
          null,
          -0.3396073580534308,
          0.9176111490002368,
          null,
          -0.3396073580534308,
          -0.24968664352895817,
          null,
          -1,
          0.9176111490002368,
          null
         ],
         "y": [
          -0.36920614294221216,
          0.7224610644203403,
          null,
          -0.36920614294221216,
          -0.6947706937879526,
          null,
          0.7224610644203403,
          -0.36920614294221216,
          null,
          0.7224610644203403,
          -0.6947706937879526,
          null,
          0.7224610644203403,
          0.6623762861518273,
          null,
          -0.6947706937879526,
          0.6623762861518273,
          null,
          -0.6947706937879526,
          -0.3208605138420029,
          null,
          0.6623762861518273,
          -0.36920614294221216,
          null,
          0.6623762861518273,
          -0.6947706937879526,
          null,
          -0.3208605138420029,
          -0.36920614294221216,
          null
         ]
        },
        {
         "hoverinfo": "text",
         "hovertext": [
          "alice_codes<br>Followers: 3<br>Location: San Francisco, CA<br>Likes: 2",
          "bob_travels<br>Followers: 1<br>Location: New York, NY<br>Likes: 1",
          "carol_creates<br>Followers: 3<br>Location: London, UK<br>Likes: 2",
          "eve_fitness<br>Followers: 2<br>Location: Los Angeles, CA<br>Likes: 0",
          "frank_music<br>Followers: 1<br>Location: Austin, TX<br>Likes: 0"
         ],
         "marker": {
          "color": [
           3,
           1,
           3,
           2,
           1
          ],
          "colorbar": {
           "title": {
            "text": "Followers"
           }
          },
          "colorscale": [
           [
            0,
            "rgb(247,251,255)"
           ],
           [
            0.125,
            "rgb(222,235,247)"
           ],
           [
            0.25,
            "rgb(198,219,239)"
           ],
           [
            0.375,
            "rgb(158,202,225)"
           ],
           [
            0.5,
            "rgb(107,174,214)"
           ],
           [
            0.625,
            "rgb(66,146,198)"
           ],
           [
            0.75,
            "rgb(33,113,181)"
           ],
           [
            0.875,
            "rgb(8,81,156)"
           ],
           [
            1,
            "rgb(8,48,107)"
           ]
          ],
          "showscale": true,
          "size": [
           15,
           15,
           15,
           15,
           15
          ]
         },
         "mode": "markers+text",
         "text": [
          "alice_codes",
          "bob_travels",
          "carol_creates",
          "eve_fitness",
          "frank_music"
         ],
         "textposition": "middle center",
         "type": "scatter",
         "x": [
          0.9176111490002368,
          0.6716828525821527,
          -0.24968664352895817,
          -0.3396073580534308,
          -1
         ],
         "y": [
          -0.36920614294221216,
          0.7224610644203403,
          -0.6947706937879526,
          0.6623762861518273,
          -0.3208605138420029
         ]
        }
       ],
       "layout": {
        "annotations": [
         {
          "font": {
           "color": "gray",
           "size": 12
          },
          "showarrow": false,
          "text": "Node size = followers, color = followers count",
          "x": 0.005,
          "xanchor": "left",
          "xref": "paper",
          "y": -0.002,
          "yanchor": "bottom",
          "yref": "paper"
         }
        ],
        "hovermode": "closest",
        "margin": {
         "b": 20,
         "l": 5,
         "r": 5,
         "t": 40
        },
        "showlegend": false,
        "template": {
         "data": {
          "bar": [
           {
            "error_x": {
             "color": "#2a3f5f"
            },
            "error_y": {
             "color": "#2a3f5f"
            },
            "marker": {
             "line": {
              "color": "#E5ECF6",
              "width": 0.5
             },
             "pattern": {
              "fillmode": "overlay",
              "size": 10,
              "solidity": 0.2
             }
            },
            "type": "bar"
           }
          ],
          "barpolar": [
           {
            "marker": {
             "line": {
              "color": "#E5ECF6",
              "width": 0.5
             },
             "pattern": {
              "fillmode": "overlay",
              "size": 10,
              "solidity": 0.2
             }
            },
            "type": "barpolar"
           }
          ],
          "carpet": [
           {
            "aaxis": {
             "endlinecolor": "#2a3f5f",
             "gridcolor": "white",
             "linecolor": "white",
             "minorgridcolor": "white",
             "startlinecolor": "#2a3f5f"
            },
            "baxis": {
             "endlinecolor": "#2a3f5f",
             "gridcolor": "white",
             "linecolor": "white",
             "minorgridcolor": "white",
             "startlinecolor": "#2a3f5f"
            },
            "type": "carpet"
           }
          ],
          "choropleth": [
           {
            "colorbar": {
             "outlinewidth": 0,
             "ticks": ""
            },
            "type": "choropleth"
           }
          ],
          "contour": [
           {
            "colorbar": {
             "outlinewidth": 0,
             "ticks": ""
            },
            "colorscale": [
             [
              0,
              "#0d0887"
             ],
             [
              0.1111111111111111,
              "#46039f"
             ],
             [
              0.2222222222222222,
              "#7201a8"
             ],
             [
              0.3333333333333333,
              "#9c179e"
             ],
             [
              0.4444444444444444,
              "#bd3786"
             ],
             [
              0.5555555555555556,
              "#d8576b"
             ],
             [
              0.6666666666666666,
              "#ed7953"
             ],
             [
              0.7777777777777778,
              "#fb9f3a"
             ],
             [
              0.8888888888888888,
              "#fdca26"
             ],
             [
              1,
              "#f0f921"
             ]
            ],
            "type": "contour"
           }
          ],
          "contourcarpet": [
           {
            "colorbar": {
             "outlinewidth": 0,
             "ticks": ""
            },
            "type": "contourcarpet"
           }
          ],
          "heatmap": [
           {
            "colorbar": {
             "outlinewidth": 0,
             "ticks": ""
            },
            "colorscale": [
             [
              0,
              "#0d0887"
             ],
             [
              0.1111111111111111,
              "#46039f"
             ],
             [
              0.2222222222222222,
              "#7201a8"
             ],
             [
              0.3333333333333333,
              "#9c179e"
             ],
             [
              0.4444444444444444,
              "#bd3786"
             ],
             [
              0.5555555555555556,
              "#d8576b"
             ],
             [
              0.6666666666666666,
              "#ed7953"
             ],
             [
              0.7777777777777778,
              "#fb9f3a"
             ],
             [
              0.8888888888888888,
              "#fdca26"
             ],
             [
              1,
              "#f0f921"
             ]
            ],
            "type": "heatmap"
           }
          ],
          "histogram": [
           {
            "marker": {
             "pattern": {
              "fillmode": "overlay",
              "size": 10,
              "solidity": 0.2
             }
            },
            "type": "histogram"
           }
          ],
          "histogram2d": [
           {
            "colorbar": {
             "outlinewidth": 0,
             "ticks": ""
            },
            "colorscale": [
             [
              0,
              "#0d0887"
             ],
             [
              0.1111111111111111,
              "#46039f"
             ],
             [
              0.2222222222222222,
              "#7201a8"
             ],
             [
              0.3333333333333333,
              "#9c179e"
             ],
             [
              0.4444444444444444,
              "#bd3786"
             ],
             [
              0.5555555555555556,
              "#d8576b"
             ],
             [
              0.6666666666666666,
              "#ed7953"
             ],
             [
              0.7777777777777778,
              "#fb9f3a"
             ],
             [
              0.8888888888888888,
              "#fdca26"
             ],
             [
              1,
              "#f0f921"
             ]
            ],
            "type": "histogram2d"
           }
          ],
          "histogram2dcontour": [
           {
            "colorbar": {
             "outlinewidth": 0,
             "ticks": ""
            },
            "colorscale": [
             [
              0,
              "#0d0887"
             ],
             [
              0.1111111111111111,
              "#46039f"
             ],
             [
              0.2222222222222222,
              "#7201a8"
             ],
             [
              0.3333333333333333,
              "#9c179e"
             ],
             [
              0.4444444444444444,
              "#bd3786"
             ],
             [
              0.5555555555555556,
              "#d8576b"
             ],
             [
              0.6666666666666666,
              "#ed7953"
             ],
             [
              0.7777777777777778,
              "#fb9f3a"
             ],
             [
              0.8888888888888888,
              "#fdca26"
             ],
             [
              1,
              "#f0f921"
             ]
            ],
            "type": "histogram2dcontour"
           }
          ],
          "mesh3d": [
           {
            "colorbar": {
             "outlinewidth": 0,
             "ticks": ""
            },
            "type": "mesh3d"
           }
          ],
          "parcoords": [
           {
            "line": {
             "colorbar": {
              "outlinewidth": 0,
              "ticks": ""
             }
            },
            "type": "parcoords"
           }
          ],
          "pie": [
           {
            "automargin": true,
            "type": "pie"
           }
          ],
          "scatter": [
           {
            "fillpattern": {
             "fillmode": "overlay",
             "size": 10,
             "solidity": 0.2
            },
            "type": "scatter"
           }
          ],
          "scatter3d": [
           {
            "line": {
             "colorbar": {
              "outlinewidth": 0,
              "ticks": ""
             }
            },
            "marker": {
             "colorbar": {
              "outlinewidth": 0,
              "ticks": ""
             }
            },
            "type": "scatter3d"
           }
          ],
          "scattercarpet": [
           {
            "marker": {
             "colorbar": {
              "outlinewidth": 0,
              "ticks": ""
             }
            },
            "type": "scattercarpet"
           }
          ],
          "scattergeo": [
           {
            "marker": {
             "colorbar": {
              "outlinewidth": 0,
              "ticks": ""
             }
            },
            "type": "scattergeo"
           }
          ],
          "scattergl": [
           {
            "marker": {
             "colorbar": {
              "outlinewidth": 0,
              "ticks": ""
             }
            },
            "type": "scattergl"
           }
          ],
          "scattermap": [
           {
            "marker": {
             "colorbar": {
              "outlinewidth": 0,
              "ticks": ""
             }
            },
            "type": "scattermap"
           }
          ],
          "scattermapbox": [
           {
            "marker": {
             "colorbar": {
              "outlinewidth": 0,
              "ticks": ""
             }
            },
            "type": "scattermapbox"
           }
          ],
          "scatterpolar": [
           {
            "marker": {
             "colorbar": {
              "outlinewidth": 0,
              "ticks": ""
             }
            },
            "type": "scatterpolar"
           }
          ],
          "scatterpolargl": [
           {
            "marker": {
             "colorbar": {
              "outlinewidth": 0,
              "ticks": ""
             }
            },
            "type": "scatterpolargl"
           }
          ],
          "scatterternary": [
           {
            "marker": {
             "colorbar": {
              "outlinewidth": 0,
              "ticks": ""
             }
            },
            "type": "scatterternary"
           }
          ],
          "surface": [
           {
            "colorbar": {
             "outlinewidth": 0,
             "ticks": ""
            },
            "colorscale": [
             [
              0,
              "#0d0887"
             ],
             [
              0.1111111111111111,
              "#46039f"
             ],
             [
              0.2222222222222222,
              "#7201a8"
             ],
             [
              0.3333333333333333,
              "#9c179e"
             ],
             [
              0.4444444444444444,
              "#bd3786"
             ],
             [
              0.5555555555555556,
              "#d8576b"
             ],
             [
              0.6666666666666666,
              "#ed7953"
             ],
             [
              0.7777777777777778,
              "#fb9f3a"
             ],
             [
              0.8888888888888888,
              "#fdca26"
             ],
             [
              1,
              "#f0f921"
             ]
            ],
            "type": "surface"
           }
          ],
          "table": [
           {
            "cells": {
             "fill": {
              "color": "#EBF0F8"
             },
             "line": {
              "color": "white"
             }
            },
            "header": {
             "fill": {
              "color": "#C8D4E3"
             },
             "line": {
              "color": "white"
             }
            },
            "type": "table"
           }
          ]
         },
         "layout": {
          "annotationdefaults": {
           "arrowcolor": "#2a3f5f",
           "arrowhead": 0,
           "arrowwidth": 1
          },
          "autotypenumbers": "strict",
          "coloraxis": {
           "colorbar": {
            "outlinewidth": 0,
            "ticks": ""
           }
          },
          "colorscale": {
           "diverging": [
            [
             0,
             "#8e0152"
            ],
            [
             0.1,
             "#c51b7d"
            ],
            [
             0.2,
             "#de77ae"
            ],
            [
             0.3,
             "#f1b6da"
            ],
            [
             0.4,
             "#fde0ef"
            ],
            [
             0.5,
             "#f7f7f7"
            ],
            [
             0.6,
             "#e6f5d0"
            ],
            [
             0.7,
             "#b8e186"
            ],
            [
             0.8,
             "#7fbc41"
            ],
            [
             0.9,
             "#4d9221"
            ],
            [
             1,
             "#276419"
            ]
           ],
           "sequential": [
            [
             0,
             "#0d0887"
            ],
            [
             0.1111111111111111,
             "#46039f"
            ],
            [
             0.2222222222222222,
             "#7201a8"
            ],
            [
             0.3333333333333333,
             "#9c179e"
            ],
            [
             0.4444444444444444,
             "#bd3786"
            ],
            [
             0.5555555555555556,
             "#d8576b"
            ],
            [
             0.6666666666666666,
             "#ed7953"
            ],
            [
             0.7777777777777778,
             "#fb9f3a"
            ],
            [
             0.8888888888888888,
             "#fdca26"
            ],
            [
             1,
             "#f0f921"
            ]
           ],
           "sequentialminus": [
            [
             0,
             "#0d0887"
            ],
            [
             0.1111111111111111,
             "#46039f"
            ],
            [
             0.2222222222222222,
             "#7201a8"
            ],
            [
             0.3333333333333333,
             "#9c179e"
            ],
            [
             0.4444444444444444,
             "#bd3786"
            ],
            [
             0.5555555555555556,
             "#d8576b"
            ],
            [
             0.6666666666666666,
             "#ed7953"
            ],
            [
             0.7777777777777778,
             "#fb9f3a"
            ],
            [
             0.8888888888888888,
             "#fdca26"
            ],
            [
             1,
             "#f0f921"
            ]
           ]
          },
          "colorway": [
           "#636efa",
           "#EF553B",
           "#00cc96",
           "#ab63fa",
           "#FFA15A",
           "#19d3f3",
           "#FF6692",
           "#B6E880",
           "#FF97FF",
           "#FECB52"
          ],
          "font": {
           "color": "#2a3f5f"
          },
          "geo": {
           "bgcolor": "white",
           "lakecolor": "white",
           "landcolor": "#E5ECF6",
           "showlakes": true,
           "showland": true,
           "subunitcolor": "white"
          },
          "hoverlabel": {
           "align": "left"
          },
          "hovermode": "closest",
          "mapbox": {
           "style": "light"
          },
          "paper_bgcolor": "white",
          "plot_bgcolor": "#E5ECF6",
          "polar": {
           "angularaxis": {
            "gridcolor": "white",
            "linecolor": "white",
            "ticks": ""
           },
           "bgcolor": "#E5ECF6",
           "radialaxis": {
            "gridcolor": "white",
            "linecolor": "white",
            "ticks": ""
           }
          },
          "scene": {
           "xaxis": {
            "backgroundcolor": "#E5ECF6",
            "gridcolor": "white",
            "gridwidth": 2,
            "linecolor": "white",
            "showbackground": true,
            "ticks": "",
            "zerolinecolor": "white"
           },
           "yaxis": {
            "backgroundcolor": "#E5ECF6",
            "gridcolor": "white",
            "gridwidth": 2,
            "linecolor": "white",
            "showbackground": true,
            "ticks": "",
            "zerolinecolor": "white"
           },
           "zaxis": {
            "backgroundcolor": "#E5ECF6",
            "gridcolor": "white",
            "gridwidth": 2,
            "linecolor": "white",
            "showbackground": true,
            "ticks": "",
            "zerolinecolor": "white"
           }
          },
          "shapedefaults": {
           "line": {
            "color": "#2a3f5f"
           }
          },
          "ternary": {
           "aaxis": {
            "gridcolor": "white",
            "linecolor": "white",
            "ticks": ""
           },
           "baxis": {
            "gridcolor": "white",
            "linecolor": "white",
            "ticks": ""
           },
           "bgcolor": "#E5ECF6",
           "caxis": {
            "gridcolor": "white",
            "linecolor": "white",
            "ticks": ""
           }
          },
          "title": {
           "x": 0.05
          },
          "xaxis": {
           "automargin": true,
           "gridcolor": "white",
           "linecolor": "white",
           "ticks": "",
           "title": {
            "standoff": 15
           },
           "zerolinecolor": "white",
           "zerolinewidth": 2
          },
          "yaxis": {
           "automargin": true,
           "gridcolor": "white",
           "linecolor": "white",
           "ticks": "",
           "title": {
            "standoff": 15
           },
           "zerolinecolor": "white",
           "zerolinewidth": 2
          }
         }
        },
        "title": {
         "font": {
          "size": 16
         },
         "text": "Interactive Social Network Graph"
        },
        "xaxis": {
         "showgrid": false,
         "showticklabels": false,
         "zeroline": false
        },
        "yaxis": {
         "showgrid": false,
         "showticklabels": false,
         "zeroline": false
        }
       }
      }
     },
     "metadata": {},
     "output_type": "display_data"
    },
    {
     "name": "stdout",
     "output_type": "stream",
     "text": [
      "✅ Network graph created successfully!\n",
      "Graph contains 5 nodes and 10 edges\n"
     ]
    }
   ],
   "source": [
    "# Create edge traces for network connections\n",
    "edge_x = []\n",
    "edge_y = []\n",
    "for edge in G.edges():\n",
    "    x0, y0 = pos[edge[0]]\n",
    "    x1, y1 = pos[edge[1]]\n",
    "    edge_x.extend([x0, x1, None])\n",
    "    edge_y.extend([y0, y1, None])\n",
    "\n",
    "edge_trace = go.Scatter(x=edge_x, y=edge_y,\n",
    "                       line=dict(width=2, color='lightgray'),\n",
    "                       hoverinfo='none',\n",
    "                       mode='lines')\n",
    "\n",
    "# Create node traces with interactive features\n",
    "node_x = []\n",
    "node_y = []\n",
    "node_text = []\n",
    "node_color = []\n",
    "node_size = []\n",
    "\n",
    "for node in G.nodes():\n",
    "    x, y = pos[node]\n",
    "    node_x.append(x)\n",
    "    node_y.append(y)\n",
    "    \n",
    "    # Get node attributes\n",
    "    followers = G.nodes[node].get('followers', 0)\n",
    "    location = G.nodes[node].get('location', 'Unknown')\n",
    "    total_likes = G.nodes[node].get('total_likes', 0)\n",
    "    \n",
    "    node_text.append(f\"{node}<br>Followers: {followers}<br>Location: {location}<br>Likes: {total_likes}\")\n",
    "    node_color.append(followers)\n",
    "    node_size.append(max(15, followers * 2))  # Scale node size by followers\n",
    "\n",
    "node_trace = go.Scatter(x=node_x, y=node_y,\n",
    "                       mode='markers+text',\n",
    "                       hoverinfo='text',\n",
    "                       text=[node for node in G.nodes()],\n",
    "                       hovertext=node_text,\n",
    "                       textposition=\"middle center\",\n",
    "                       marker=dict(size=node_size,\n",
    "                                 color=node_color,\n",
    "                                 colorscale='blues',\n",
    "                                 showscale=True,\n",
    "                                 colorbar=dict(title=\"Followers\")))\n",
    "\n",
    "# Create and display the interactive figure\n",
    "fig = go.Figure(data=[edge_trace, node_trace],\n",
    "               layout=go.Layout(\n",
    "                title=dict(text='Interactive Social Network Graph', font=dict(size=16)),\n",
    "                showlegend=False,\n",
    "                hovermode='closest',\n",
    "                margin=dict(b=20,l=5,r=5,t=40),\n",
    "                annotations=[ dict(\n",
    "                    text=\"Node size = followers, color = followers count\",\n",
    "                    showarrow=False,\n",
    "                    xref=\"paper\", yref=\"paper\",\n",
    "                    x=0.005, y=-0.002,\n",
    "                    xanchor=\"left\", yanchor=\"bottom\",\n",
    "                    font=dict(color=\"gray\", size=12)\n",
    "                )],\n",
    "                xaxis=dict(showgrid=False, zeroline=False, showticklabels=False),\n",
    "                yaxis=dict(showgrid=False, zeroline=False, showticklabels=False)))\n",
    "\n",
    "fig.show()\n",
    "\n",
    "# Alternative display methods if above doesn't work\n",
    "print(\"✅ Network graph created successfully!\")\n",
    "print(f\"Graph contains {len(node_x)} nodes and {len(edge_x)//3} edges\")\n",
    "\n",
    "# If graph doesn't display, try these alternatives:\n",
    "fig.show(renderer=\"browser\")  # Opens in browser\n",
    "# fig.write_html(\"network_graph.html\")  # Saves to file"
   ]
  },
  {
   "cell_type": "code",
   "execution_count": null,
   "id": "ea65f13f-0a70-4e8e-bf71-0c9962985854",
   "metadata": {},
   "outputs": [],
   "source": []
  }
 ],
 "metadata": {
  "kernelspec": {
   "display_name": "Python 3 (Neo4j Project)",
   "language": "python",
   "name": "myneo4jprojectenv"
  },
  "language_info": {
   "codemirror_mode": {
    "name": "ipython",
    "version": 3
   },
   "file_extension": ".py",
   "mimetype": "text/x-python",
   "name": "python",
   "nbconvert_exporter": "python",
   "pygments_lexer": "ipython3",
   "version": "3.13.3"
  }
 },
 "nbformat": 4,
 "nbformat_minor": 5
}
