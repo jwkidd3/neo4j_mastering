{
 "cells": [
  {
   "cell_type": "markdown",
   "metadata": {},
   "source": [
    "# Lab 13 Part 2: FastAPI Application Setup and WebSocket Integration\n",
    "\n",
    "**Duration:** 10 minutes  \n",
    "\n",
    "## Learning Objectives\n",
    "\n",
    "- Initialize FastAPI application with template support\n",
    "- Configure WebSocket connection manager for real-time features\n",
    "- Set up connection handling and broadcasting\n",
    "- Configure CORS and middleware settings"
   ]
  },
  {
   "cell_type": "markdown",
   "metadata": {},
   "source": [
    "## Import Required Dependencies\n",
    "\n",
    "Ensure all necessary libraries are imported for this notebook."
   ]
  },
  {
   "cell_type": "code",
   "execution_count": null,
   "metadata": {},
   "outputs": [],
   "source": [
    "from fastapi import FastAPI, Request, WebSocket, WebSocketDisconnect\n",
    "from fastapi.responses import HTMLResponse, JSONResponse\n",
    "from fastapi.staticfiles import StaticFiles\n",
    "from fastapi.templating import Jinja2Templates\n",
    "import json\n",
    "import asyncio\n",
    "from datetime import datetime, timedelta\n",
    "from typing import List, Dict, Any\n",
    "import uvicorn\n",
    "from neo4j import GraphDatabase\n",
    "import os\n",
    "\n",
    "print(\"✓ Libraries imported successfully\")"
   ]
  },
  {
   "cell_type": "markdown",
   "metadata": {},
   "source": [
    "## Initialize FastAPI Application\n",
    "\n",
    "Create the main FastAPI application instance with configuration for the insurance web platform."
   ]
  },
  {
   "cell_type": "code",
   "execution_count": null,
   "metadata": {},
   "outputs": [],
   "source": [
    "# Create FastAPI application\n",
    "app = FastAPI(\n",
    "    title=\"Neo4j Insurance Web Application\",\n",
    "    description=\"Interactive insurance platform with real-time features\",\n",
    "    version=\"1.0.0\"\n",
    ")\n",
    "\n",
    "# Setup templates and static files\n",
    "templates = Jinja2Templates(directory=\"templates\")\n",
    "\n",
    "print(\"✓ FastAPI application initialized\")"
   ]
  },
  {
   "cell_type": "markdown",
   "metadata": {},
   "source": [
    "## WebSocket Connection Manager\n",
    "\n",
    "Create a WebSocket manager to handle real-time connections, broadcasting, and user-specific messaging."
   ]
  },
  {
   "cell_type": "code",
   "execution_count": null,
   "metadata": {},
   "outputs": [],
   "source": [
    "class WebSocketManager:\n",
    "    def __init__(self):\n",
    "        self.active_connections: List[WebSocket] = []\n",
    "        self.user_connections: Dict[str, WebSocket] = {}\n",
    "    \n",
    "    async def connect(self, websocket: WebSocket, user_id: str = None):\n",
    "        await websocket.accept()\n",
    "        self.active_connections.append(websocket)\n",
    "        if user_id:\n",
    "            self.user_connections[user_id] = websocket\n",
    "    \n",
    "    def disconnect(self, websocket: WebSocket, user_id: str = None):\n",
    "        if websocket in self.active_connections:\n",
    "            self.active_connections.remove(websocket)\n",
    "        if user_id and user_id in self.user_connections:\n",
    "            del self.user_connections[user_id]\n",
    "    \n",
    "    async def send_personal_message(self, message: str, websocket: WebSocket):\n",
    "        await websocket.send_text(message)\n",
    "    \n",
    "    async def broadcast(self, message: str):\n",
    "        for connection in self.active_connections:\n",
    "            try:\n",
    "                await connection.send_text(message)\n",
    "            except:\n",
    "                # Remove broken connections\n",
    "                if connection in self.active_connections:\n",
    "                    self.active_connections.remove(connection)\n",
    "    \n",
    "    async def send_to_user(self, user_id: str, message: str):\n",
    "        if user_id in self.user_connections:\n",
    "            try:\n",
    "                await self.user_connections[user_id].send_text(message)\n",
    "            except:\n",
    "                del self.user_connections[user_id]\n",
    "\n",
    "websocket_manager = WebSocketManager()\n",
    "\n",
    "print(\"✓ WebSocket manager configured\")"
   ]
  },
  {
   "cell_type": "markdown",
   "metadata": {},
   "source": [
    "## WebSocket Connection Testing\n",
    "\n",
    "Verify the WebSocket manager is properly initialized and ready for connections."
   ]
  },
  {
   "cell_type": "code",
   "execution_count": null,
   "metadata": {},
   "outputs": [],
   "source": [
    "# Verify WebSocket manager status\n",
    "print(f\"Active connections: {len(websocket_manager.active_connections)}\")\n",
    "print(f\"User connections: {len(websocket_manager.user_connections)}\")\n",
    "print(\"✓ WebSocket manager ready for real-time connections\")"
   ]
  },
  {
   "cell_type": "markdown",
   "metadata": {},
   "source": [
    "## Summary\n",
    "\n",
    "In this notebook, you:\n",
    "- Initialized the FastAPI application with metadata\n",
    "- Set up template rendering support\n",
    "- Created a WebSocket connection manager\n",
    "- Implemented connection, disconnection, and broadcasting functionality\n",
    "- Verified the WebSocket manager is ready\n",
    "\n",
    "Next: Proceed to notebook 03 to implement dashboard routes and customer APIs."
   ]
  }
 ],
 "metadata": {
  "kernelspec": {
   "display_name": "Python 3",
   "language": "python",
   "name": "python3"
  },
  "language_info": {
   "codemirror_mode": {
    "name": "ipython",
    "version": 3
   },
   "file_extension": ".py",
   "mimetype": "text/x-python",
   "name": "python",
   "nbconvert_exporter": "python",
   "pygments_lexer": "ipython3",
   "version": "3.9.0"
  }
 },
 "nbformat": 4,
 "nbformat_minor": 4
}
