{
 "cells": [
  {
   "cell_type": "markdown",
   "metadata": {},
   "source": [
    "# Lab 13 Part 1: Environment Setup and Dependencies\n",
    "\n",
    "**Duration:** 10 minutes  \n",
    "**Prerequisites:** Completion of Lab 7 (Production Insurance API Development)  \n",
    "\n",
    "## Learning Objectives\n",
    "\n",
    "- Install web application dependencies for FastAPI and WebSocket support\n",
    "- Configure database connection management\n",
    "- Import required libraries for web development\n",
    "- Verify environment setup and connectivity"
   ]
  },
  {
   "cell_type": "markdown",
   "metadata": {},
   "source": [
    "## Install Required Python Packages\n",
    "\n",
    "Install all dependencies needed for the interactive web application, including FastAPI, WebSocket support, and template rendering."
   ]
  },
  {
   "cell_type": "code",
   "execution_count": null,
   "metadata": {},
   "outputs": [],
   "source": [
    "# Install web application dependencies\n",
    "import subprocess\n",
    "import sys\n",
    "\n",
    "packages = [\n",
    "    \"fastapi==0.104.1\",\n",
    "    \"uvicorn[standard]==0.24.0\",\n",
    "    \"jinja2==3.1.2\",\n",
    "    \"python-multipart==0.0.6\",\n",
    "    \"websockets==12.0\",\n",
    "    \"aiofiles==23.2.1\"\n",
    "]\n",
    "\n",
    "for package in packages:\n",
    "    subprocess.check_call([sys.executable, \"-m\", \"pip\", \"install\", package])\n",
    "\n",
    "print(\"✓ Web application dependencies installed\")"
   ]
  },
  {
   "cell_type": "markdown",
   "metadata": {},
   "source": [
    "## Import Required Libraries\n",
    "\n",
    "Import all necessary libraries for building the FastAPI web application with WebSocket support and Neo4j integration."
   ]
  },
  {
   "cell_type": "code",
   "execution_count": null,
   "metadata": {},
   "outputs": [],
   "source": [
    "from fastapi import FastAPI, Request, WebSocket, WebSocketDisconnect\n",
    "from fastapi.responses import HTMLResponse, JSONResponse\n",
    "from fastapi.staticfiles import StaticFiles\n",
    "from fastapi.templating import Jinja2Templates\n",
    "import json\n",
    "import asyncio\n",
    "from datetime import datetime, timedelta\n",
    "from typing import List, Dict, Any\n",
    "import uvicorn\n",
    "from neo4j import GraphDatabase\n",
    "import os\n",
    "\n",
    "print(\"✓ Libraries imported successfully\")"
   ]
  },
  {
   "cell_type": "markdown",
   "metadata": {},
   "source": [
    "## Database Connection Manager\n",
    "\n",
    "Create a connection manager class to handle Neo4j database connections throughout the application lifecycle."
   ]
  },
  {
   "cell_type": "code",
   "execution_count": null,
   "metadata": {},
   "outputs": [],
   "source": [
    "class Neo4jConnectionManager:\n",
    "    def __init__(self, uri=\"bolt://localhost:7687\", user=\"neo4j\", password=\"password\"):\n",
    "        self.driver = GraphDatabase.driver(uri, auth=(user, password))\n",
    "    \n",
    "    def close(self):\n",
    "        self.driver.close()\n",
    "    \n",
    "    def get_session(self):\n",
    "        return self.driver.session()\n",
    "\n",
    "# Initialize connection manager\n",
    "connection_manager = Neo4jConnectionManager()\n",
    "\n",
    "print(\"✓ Database connection manager initialized\")"
   ]
  },
  {
   "cell_type": "markdown",
   "metadata": {},
   "source": [
    "## Verify Database Connectivity\n",
    "\n",
    "Test the connection to the Neo4j database to ensure everything is configured correctly."
   ]
  },
  {
   "cell_type": "code",
   "execution_count": null,
   "metadata": {},
   "outputs": [],
   "source": [
    "# Test database connectivity\n",
    "def test_neo4j_connection():\n",
    "    try:\n",
    "        with connection_manager.get_session() as session:\n",
    "            result = session.run(\"RETURN 1 as test\")\n",
    "            test_value = result.single()[\"test\"]\n",
    "            print(f\"✅ Neo4j connection successful: {test_value}\")\n",
    "            return True\n",
    "    except Exception as e:\n",
    "        print(f\"❌ Neo4j connection failed: {str(e)}\")\n",
    "        print(\"🔧 Verify Neo4j container is running: docker ps\")\n",
    "        print(\"🔧 Check container status: docker logs neo4j\")\n",
    "        return False\n",
    "\n",
    "test_neo4j_connection()"
   ]
  },
  {
   "cell_type": "markdown",
   "metadata": {},
   "source": [
    "## Summary\n",
    "\n",
    "In this notebook, you:\n",
    "- Installed all required dependencies for the web application\n",
    "- Imported necessary libraries for FastAPI and Neo4j\n",
    "- Created a database connection manager\n",
    "- Verified database connectivity\n",
    "\n",
    "Next: Proceed to notebook 02 to set up FastAPI and WebSocket functionality."
   ]
  }
 ],
 "metadata": {
  "kernelspec": {
   "display_name": "Python 3",
   "language": "python",
   "name": "python3"
  },
  "language_info": {
   "codemirror_mode": {
    "name": "ipython",
    "version": 3
   },
   "file_extension": ".py",
   "mimetype": "text/x-python",
   "name": "python",
   "nbconvert_exporter": "python",
   "pygments_lexer": "ipython3",
   "version": "3.9.0"
  }
 },
 "nbformat": 4,
 "nbformat_minor": 4
}
